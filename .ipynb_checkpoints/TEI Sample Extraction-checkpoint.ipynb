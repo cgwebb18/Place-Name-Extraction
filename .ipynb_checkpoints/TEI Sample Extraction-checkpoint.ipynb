{
 "cells": [
  {
   "cell_type": "code",
   "execution_count": 1,
   "metadata": {},
   "outputs": [],
   "source": [
    "import re\n",
    "import pandas as pd\n",
    "import numpy as np\n",
    "from IPython.display import clear_output\n",
    "import nltk\n",
    "from nltk.tokenize import word_tokenize\n",
    "from nltk.corpus import stopwords\n",
    "import requests\n",
    "from bs4 import BeautifulSoup\n",
    "from lxml import etree"
   ]
  },
  {
   "cell_type": "code",
   "execution_count": 105,
   "metadata": {},
   "outputs": [],
   "source": [
    "#function to get all proper nouns from a file\n",
    "#takes xml doc and returns dataframe\n",
    "def get_nps(file):\n",
    "    acc_d = {'Speaker':[], 'Line':[], 'Term':[]}\n",
    "    tree = etree.parse(file)\n",
    "    #one-liner to create parent_map to traverse the tree backwards\n",
    "    parent_map = dict((c, p) for p in tree.getiterator() for c in p)\n",
    "    #get title\n",
    "    title = tree.xpath('//title')[0].text\n",
    "    #start with list of all proper nouns, then add line # and speaker info to each\n",
    "    nps = tree.xpath('//w[@ana=\"#n1-nn\"]')\n",
    "    def get_sp(l):\n",
    "        parent = parent_map[l]\n",
    "        if parent.tag == 'sp':\n",
    "            return parent\n",
    "        else:\n",
    "            return get_sp(parent)\n",
    "    for np in nps:\n",
    "        line = parent_map[np]\n",
    "        line_num = np.get('n')\n",
    "        speech = get_sp(np)\n",
    "        if speech.find('speaker') == None:\n",
    "            speaker = speech.get('who')\n",
    "        else:\n",
    "            i_speaker = speech.find('speaker')\n",
    "            speaker = ''\n",
    "            for w in i_speaker.findall('w'):\n",
    "                speaker = speaker + w.text.capitalize() + ' '\n",
    "            speaker = speaker[:-1]    \n",
    "            \n",
    "        acc_d['Speaker'].append(speaker) \n",
    "        acc_d['Line'].append(line_num)\n",
    "        acc_d['Term'].append(np.text)\n",
    "    df = pd.DataFrame.from_dict(acc_d)\n",
    "    df['Play'] = title\n",
    "    return df\n",
    "\n",
    "\n",
    "\n",
    "def get_chars(file):\n",
    "    char_list = []\n",
    "    tree = etree.parse(file)\n",
    "    #get list of characters\n",
    "    for ci in tree.xpath('//castList//castItem'):\n",
    "        if len(ci) > 0:\n",
    "            c_id = ci.get('{http://www.w3.org/XML/1998/namespace}id')\n",
    "            if c_id[1].islower() == True:\n",
    "                r = ci.find('role')\n",
    "                if r[0].tail != None:\n",
    "                    tail = r[0].tail.strip()\n",
    "                if r == None:\n",
    "                    print('no role found', c_id)\n",
    "                n = r.find('name')\n",
    "                if r.text == None:\n",
    "                    f_n = n.text\n",
    "                elif len(tail) == 0:\n",
    "                    f_n = r.text.strip() + ' ' + n.text\n",
    "                else:\n",
    "                    f_n = r.text.strip() + ' ' + n.text + tail\n",
    "                char_list.append(f_n.strip())\n",
    "    return char_list\n",
    "        \n",
    "#     x.text.replace('â\\x80\\x99', '\\'')\n",
    "#     x.replace('Ã©', 'e')\n",
    "\n",
    "    "
   ]
  },
  {
   "cell_type": "code",
   "execution_count": 22,
   "metadata": {},
   "outputs": [],
   "source": [
    "HenryIV_1df= get_nps('Initial_Texts/HenryIV(1).xml')\n",
    "HenryIV_2df = get_nps('Initial_Texts/HenryIV(2).xml')\n",
    "HenryV_df = get_nps('Initial_Texts/HenryV.xml')\n",
    "HenryVI_1df = get_nps('Initial_Texts/HenryVI(1).xml')\n",
    "HenryVI_2df = get_nps('Initial_Texts/HenryVI(2).xml')\n",
    "HenryVI_3df = get_nps('Initial_Texts/HenryVI(3).xml')\n",
    "John_df = get_nps('Initial_Texts/John.xml')\n",
    "RichardII_df = get_nps('Initial_Texts/RichardII.xml')\n",
    "RichardIII_df = get_nps('Initial_Texts/RichardIII.xml')\n",
    "all_dfs = [HenryIV_1df, HenryIV_2df, HenryVdf, HenryVI_1df, HenryVI_2df, HenryVI_3df, John_df, RichardII_df, RichardIII_df]"
   ]
  },
  {
   "cell_type": "code",
   "execution_count": 106,
   "metadata": {},
   "outputs": [
    {
     "ename": "AttributeError",
     "evalue": "'NoneType' object has no attribute 'strip'",
     "output_type": "error",
     "traceback": [
      "\u001b[1;31m---------------------------------------------------------------------------\u001b[0m",
      "\u001b[1;31mAttributeError\u001b[0m                            Traceback (most recent call last)",
      "\u001b[1;32m<ipython-input-106-7bee6b12f4cd>\u001b[0m in \u001b[0;36m<module>\u001b[1;34m()\u001b[0m\n\u001b[1;32m----> 1\u001b[1;33m \u001b[0mget_chars\u001b[0m\u001b[1;33m(\u001b[0m\u001b[1;34m'Initial_Texts/HenryVI(1).xml'\u001b[0m\u001b[1;33m)\u001b[0m\u001b[1;33m\u001b[0m\u001b[0m\n\u001b[0m",
      "\u001b[1;32m<ipython-input-105-80187fcd09a6>\u001b[0m in \u001b[0;36mget_chars\u001b[1;34m(file)\u001b[0m\n\u001b[0;32m     50\u001b[0m                     \u001b[0mtail\u001b[0m \u001b[1;33m=\u001b[0m \u001b[0mr\u001b[0m\u001b[1;33m[\u001b[0m\u001b[1;36m0\u001b[0m\u001b[1;33m]\u001b[0m\u001b[1;33m.\u001b[0m\u001b[0mtail\u001b[0m\u001b[1;33m.\u001b[0m\u001b[0mstrip\u001b[0m\u001b[1;33m(\u001b[0m\u001b[1;33m)\u001b[0m\u001b[1;33m\u001b[0m\u001b[0m\n\u001b[0;32m     51\u001b[0m                     \u001b[1;32mif\u001b[0m \u001b[0mlen\u001b[0m\u001b[1;33m(\u001b[0m\u001b[0mr\u001b[0m\u001b[1;33m)\u001b[0m \u001b[1;33m>\u001b[0m \u001b[1;36m1\u001b[0m\u001b[1;33m:\u001b[0m\u001b[1;33m\u001b[0m\u001b[0m\n\u001b[1;32m---> 52\u001b[1;33m                         \u001b[0mtail2\u001b[0m \u001b[1;33m=\u001b[0m \u001b[0mtail\u001b[0m \u001b[1;33m+\u001b[0m \u001b[0mr\u001b[0m\u001b[1;33m[\u001b[0m\u001b[1;36m1\u001b[0m\u001b[1;33m]\u001b[0m\u001b[1;33m.\u001b[0m\u001b[0mtail\u001b[0m\u001b[1;33m.\u001b[0m\u001b[0mstrip\u001b[0m\u001b[1;33m(\u001b[0m\u001b[1;33m)\u001b[0m\u001b[1;33m\u001b[0m\u001b[0m\n\u001b[0m\u001b[0;32m     53\u001b[0m                         \u001b[0mprint\u001b[0m\u001b[1;33m(\u001b[0m\u001b[0mtail2\u001b[0m\u001b[1;33m)\u001b[0m\u001b[1;33m\u001b[0m\u001b[0m\n\u001b[0;32m     54\u001b[0m                 \u001b[1;32mif\u001b[0m \u001b[0mr\u001b[0m \u001b[1;33m==\u001b[0m \u001b[1;32mNone\u001b[0m\u001b[1;33m:\u001b[0m\u001b[1;33m\u001b[0m\u001b[0m\n",
      "\u001b[1;31mAttributeError\u001b[0m: 'NoneType' object has no attribute 'strip'"
     ]
    }
   ],
   "source": [
    "get_chars('Initial_Texts/HenryVI(1).xml')"
   ]
  },
  {
   "cell_type": "code",
   "execution_count": 19,
   "metadata": {},
   "outputs": [
    {
     "data": {
      "text/plain": [
       "306"
      ]
     },
     "execution_count": 19,
     "metadata": {},
     "output_type": "execute_result"
    }
   ],
   "source": [
    "len(set(acc))"
   ]
  },
  {
   "cell_type": "code",
   "execution_count": 20,
   "metadata": {},
   "outputs": [
    {
     "data": {
      "text/plain": [
       "368"
      ]
     },
     "execution_count": 20,
     "metadata": {},
     "output_type": "execute_result"
    }
   ],
   "source": [
    "len(acc)"
   ]
  },
  {
   "cell_type": "code",
   "execution_count": null,
   "metadata": {},
   "outputs": [],
   "source": []
  },
  {
   "cell_type": "code",
   "execution_count": null,
   "metadata": {},
   "outputs": [],
   "source": []
  },
  {
   "cell_type": "code",
   "execution_count": null,
   "metadata": {
    "collapsed": true
   },
   "outputs": [],
   "source": []
  }
 ],
 "metadata": {
  "kernelspec": {
   "display_name": "Python 3",
   "language": "python",
   "name": "python3"
  },
  "language_info": {
   "codemirror_mode": {
    "name": "ipython",
    "version": 3
   },
   "file_extension": ".py",
   "mimetype": "text/x-python",
   "name": "python",
   "nbconvert_exporter": "python",
   "pygments_lexer": "ipython3",
   "version": "3.6.5"
  }
 },
 "nbformat": 4,
 "nbformat_minor": 2
}
