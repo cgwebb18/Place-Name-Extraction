{
 "cells": [
  {
   "cell_type": "code",
   "execution_count": 10,
   "metadata": {},
   "outputs": [],
   "source": [
    "import re\n",
    "import pandas as pd\n",
    "import numpy as np\n",
    "from IPython.display import clear_output\n",
    "import nltk\n",
    "from nltk.tokenize import word_tokenize\n",
    "from nltk.corpus import stopwords\n",
    "import requests\n",
    "from bs4 import BeautifulSoup\n",
    "from lxml import etree"
   ]
  },
  {
   "cell_type": "code",
   "execution_count": 28,
   "metadata": {},
   "outputs": [],
   "source": [
    "#function to get all proper nouns from a file\n",
    "#takes xml doc and returns dataframe\n",
    "def get_nps(file):\n",
    "    acc_d = {'Speaker':[], 'Line':[], 'Term':[]}\n",
    "    tree = etree.parse(file)\n",
    "    #one-liner to create parent_map to traverse the tree backwards\n",
    "    parent_map = dict((c, p) for p in tree.getiterator() for c in p)\n",
    "    #get title\n",
    "    title = tree.xpath('//title')[0].text\n",
    "    #start with list of all proper nouns, then add line # and speaker info to each\n",
    "    nps = tree.xpath('//w[@ana=\"#n1-nn\"]')\n",
    "    for np in nps:\n",
    "        line = parent_map[np]\n",
    "        line_num = line.get('n')\n",
    "        parent = parent_map[line]\n",
    "        if parent.tag == 'p':\n",
    "            speech = parent_map[parent]\n",
    "        else:\n",
    "            speech = parent\n",
    "        if speech.find('speaker') == None:\n",
    "            speaker = speech.get('who')\n",
    "        else:\n",
    "            speaker = speech.find('speaker')[0].text\n",
    "        acc_d['Speaker'].append(speaker) \n",
    "        acc_d['Line'].append(line_num)\n",
    "        acc_d['Term'].append(np.text)\n",
    "    df = pd.DataFrame.from_dict(acc_d)\n",
    "    df['Play'] = title\n",
    "    return df\n",
    "\n",
    "    "
   ]
  },
  {
   "cell_type": "code",
   "execution_count": 29,
   "metadata": {},
   "outputs": [],
   "source": [
    "HenryIV_1df = get_nps('Initial_Texts/HenryIV(1).xml')\n",
    "HenryIV_2df = get_nps('Initial_Texts/HenryIV(2).xml')\n",
    "HenryVdf = get_nps('Initial_Texts/HenryV.xml')\n",
    "HenryVI_1df = get_nps('Initial_Texts/HenryVI(1).xml')\n",
    "HenryVI_2df = get_nps('Initial_Texts/HenryVI(2).xml')\n",
    "HenryVI_3df = get_nps('Initial_Texts/HenryVI(3).xml')\n",
    "Johndf = get_nps('Initial_Texts/John.xml')\n",
    "RichardIIdf = get_nps('Initial_Texts/RichardII.xml')\n",
    "RichardIIIdf = get_nps('Initial_Texts/RichardIII.xml')"
   ]
  },
  {
   "cell_type": "code",
   "execution_count": null,
   "metadata": {},
   "outputs": [],
   "source": []
  }
 ],
 "metadata": {
  "kernelspec": {
   "display_name": "Python 3",
   "language": "python",
   "name": "python3"
  },
  "language_info": {
   "codemirror_mode": {
    "name": "ipython",
    "version": 3
   },
   "file_extension": ".py",
   "mimetype": "text/x-python",
   "name": "python",
   "nbconvert_exporter": "python",
   "pygments_lexer": "ipython3",
   "version": "3.6.5"
  }
 },
 "nbformat": 4,
 "nbformat_minor": 2
}
