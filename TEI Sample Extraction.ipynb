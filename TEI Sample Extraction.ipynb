{
 "cells": [
  {
   "cell_type": "code",
   "execution_count": 2,
   "metadata": {
    "collapsed": true
   },
   "outputs": [],
   "source": [
    "import re\n",
    "import pandas as pd\n",
    "import numpy as np\n",
    "from IPython.display import clear_output\n",
    "import nltk\n",
    "from nltk.tokenize import word_tokenize\n",
    "from nltk.corpus import stopwords\n",
    "import requests\n",
    "from bs4 import BeautifulSoup\n",
    "from lxml import etree"
   ]
  },
  {
   "cell_type": "code",
   "execution_count": 9,
   "metadata": {
    "collapsed": true
   },
   "outputs": [],
   "source": [
    "#function to get all proper nouns from a file\n",
    "#takes xml doc and returns dataframe\n",
    "def get_nps(file):\n",
    "    acc_d = {'Speaker':[], 'Line':[], 'Term':[]}\n",
    "    tree = etree.parse(file)\n",
    "    #one-liner to create parent_map to traverse the tree backwards\n",
    "    parent_map = dict((c, p) for p in tree.getiterator() for c in p)\n",
    "    #get list of characters\n",
    "    char_list = [x.text.replace('â\\x80\\x99', '\\'') for x in tree.xpath('//castList//name')]\n",
    "    #get title\n",
    "    title = tree.xpath('//title')[0].text\n",
    "    #start with list of all proper nouns, then add line # and speaker info to each\n",
    "    nps = tree.xpath('//w[@ana=\"#n1-nn\"]')\n",
    "    def get_sp(l):\n",
    "        parent = parent_map[l]\n",
    "        if parent.tag == 'sp':\n",
    "            return parent\n",
    "        else:\n",
    "            return get_sp(parent)\n",
    "    for np in nps:\n",
    "        line = parent_map[np]\n",
    "        line_num = np.get('n')\n",
    "        speech = get_sp(np)\n",
    "        if speech.find('speaker') == None:\n",
    "            speaker = speech.get('who')\n",
    "        else:\n",
    "            i_speaker = speech.find('speaker')\n",
    "            speaker = ''\n",
    "            for w in i_speaker.findall('w'):\n",
    "                speaker = speaker + w.text.capitalize() + ' '\n",
    "            speaker = speaker[:-1]    \n",
    "            \n",
    "        acc_d['Speaker'].append(speaker) \n",
    "        acc_d['Line'].append(line_num)\n",
    "        acc_d['Term'].append(np.text)\n",
    "    df = pd.DataFrame.from_dict(acc_d)\n",
    "    df['Play'] = title\n",
    "    return (df, char_list)\n",
    "\n",
    "    "
   ]
  },
  {
   "cell_type": "code",
   "execution_count": 10,
   "metadata": {
    "collapsed": true
   },
   "outputs": [],
   "source": [
    "HenryIV_1df, HenryIV_1chars = get_nps('Initial_Texts/HenryIV(1).xml')\n",
    "HenryIV_2df, HenryIV_2chars = get_nps('Initial_Texts/HenryIV(2).xml')\n",
    "HenryVdf, HenryVchars = get_nps('Initial_Texts/HenryV.xml')\n",
    "HenryVI_1df, HenryVI_1chars = get_nps('Initial_Texts/HenryVI(1).xml')\n",
    "HenryVI_2df, HenryVI_2chars = get_nps('Initial_Texts/HenryVI(2).xml')\n",
    "HenryVI_3df, HenryVI_3chars = get_nps('Initial_Texts/HenryVI(3).xml')\n",
    "Johndf, Johnchars = get_nps('Initial_Texts/John.xml')\n",
    "RichardIIdf, RichardIIchars = get_nps('Initial_Texts/RichardII.xml')\n",
    "RichardIIIdf, RichardIIIchars = get_nps('Initial_Texts/RichardIII.xml')"
   ]
  },
  {
   "cell_type": "code",
   "execution_count": 12,
   "metadata": {},
   "outputs": [
    {
     "data": {
      "text/html": [
       "<div>\n",
       "<style>\n",
       "    .dataframe thead tr:only-child th {\n",
       "        text-align: right;\n",
       "    }\n",
       "\n",
       "    .dataframe thead th {\n",
       "        text-align: left;\n",
       "    }\n",
       "\n",
       "    .dataframe tbody tr th {\n",
       "        vertical-align: top;\n",
       "    }\n",
       "</style>\n",
       "<table border=\"1\" class=\"dataframe\">\n",
       "  <thead>\n",
       "    <tr style=\"text-align: right;\">\n",
       "      <th></th>\n",
       "      <th>Line</th>\n",
       "      <th>Speaker</th>\n",
       "      <th>Term</th>\n",
       "      <th>Play</th>\n",
       "    </tr>\n",
       "  </thead>\n",
       "  <tbody>\n",
       "    <tr>\n",
       "      <th>0</th>\n",
       "      <td>IND.24</td>\n",
       "      <td>Rumor</td>\n",
       "      <td>Shrewsbury</td>\n",
       "      <td>Henry IV, Part II</td>\n",
       "    </tr>\n",
       "    <tr>\n",
       "      <th>1</th>\n",
       "      <td>IND.25</td>\n",
       "      <td>Rumor</td>\n",
       "      <td>Hotspur</td>\n",
       "      <td>Henry IV, Part II</td>\n",
       "    </tr>\n",
       "    <tr>\n",
       "      <th>2</th>\n",
       "      <td>IND.29</td>\n",
       "      <td>Rumor</td>\n",
       "      <td>Harry</td>\n",
       "      <td>Henry IV, Part II</td>\n",
       "    </tr>\n",
       "    <tr>\n",
       "      <th>3</th>\n",
       "      <td>IND.29</td>\n",
       "      <td>Rumor</td>\n",
       "      <td>Monmouth</td>\n",
       "      <td>Henry IV, Part II</td>\n",
       "    </tr>\n",
       "    <tr>\n",
       "      <th>4</th>\n",
       "      <td>IND.34</td>\n",
       "      <td>Rumor</td>\n",
       "      <td>Shrewsbury</td>\n",
       "      <td>Henry IV, Part II</td>\n",
       "    </tr>\n",
       "  </tbody>\n",
       "</table>\n",
       "</div>"
      ],
      "text/plain": [
       "     Line Speaker        Term               Play\n",
       "0  IND.24   Rumor  Shrewsbury  Henry IV, Part II\n",
       "1  IND.25   Rumor     Hotspur  Henry IV, Part II\n",
       "2  IND.29   Rumor       Harry  Henry IV, Part II\n",
       "3  IND.29   Rumor    Monmouth  Henry IV, Part II\n",
       "4  IND.34   Rumor  Shrewsbury  Henry IV, Part II"
      ]
     },
     "execution_count": 12,
     "metadata": {},
     "output_type": "execute_result"
    }
   ],
   "source": [
    "HenryIV_2df, HneryIV_2chars = get_nps('Initial_Texts/HenryIV(2).xml')\n",
    "HenryIV_2df.head()"
   ]
  },
  {
   "cell_type": "code",
   "execution_count": 13,
   "metadata": {},
   "outputs": [
    {
     "data": {
      "text/plain": [
       "['Rumor',\n",
       " 'King Henry IV',\n",
       " 'Prince Hal',\n",
       " 'King Henry V',\n",
       " 'John of Lancaster',\n",
       " 'Thomas of Clarence',\n",
       " 'Humphrey of Gloucester',\n",
       " 'Earl of Northumberland',\n",
       " \"Northumberland's wife\",\n",
       " 'Lady Percy',\n",
       " 'Archbishop',\n",
       " 'Lord Mowbray',\n",
       " 'Lord Hastings',\n",
       " 'Lord Bardolph',\n",
       " 'Travers',\n",
       " 'Morton',\n",
       " 'Sir John Colevile',\n",
       " 'Earl of Westmoreland',\n",
       " 'Earl of Warwick',\n",
       " 'Earl of Surrey',\n",
       " 'Sir John Blunt',\n",
       " 'Gower',\n",
       " 'Harcourt',\n",
       " 'Lord Chief Justice',\n",
       " 'Sir John Falstaff',\n",
       " 'Poins',\n",
       " 'Bardolph',\n",
       " 'Peto',\n",
       " 'Pistol',\n",
       " \"Falstaff's Page\",\n",
       " 'Hostess',\n",
       " 'Doll Tearsheet',\n",
       " 'Justice Robert Shallow',\n",
       " 'Justice Silence',\n",
       " 'Davy',\n",
       " 'Mouldy',\n",
       " 'Shadow',\n",
       " 'Wart',\n",
       " 'Feeble',\n",
       " 'Bullcalf',\n",
       " 'Fang',\n",
       " 'Snare',\n",
       " 'Epilogue']"
      ]
     },
     "execution_count": 13,
     "metadata": {},
     "output_type": "execute_result"
    }
   ],
   "source": [
    "def char_list(file):\n",
    "    tree = etree.parse(file)\n",
    "    \n",
    "    names = [x.text.replace('â\\x80\\x99', '\\'') for x in tree.xpath('//castList//name')]\n",
    "    \n",
    "    return names\n",
    "        \n",
    "char_list('Initial_Texts/HenryIV(2).xml')"
   ]
  },
  {
   "cell_type": "code",
   "execution_count": null,
   "metadata": {
    "collapsed": true
   },
   "outputs": [],
   "source": []
  },
  {
   "cell_type": "code",
   "execution_count": null,
   "metadata": {
    "collapsed": true
   },
   "outputs": [],
   "source": []
  }
 ],
 "metadata": {
  "kernelspec": {
   "display_name": "Python 3",
   "language": "python",
   "name": "python3"
  },
  "language_info": {
   "codemirror_mode": {
    "name": "ipython",
    "version": 3
   },
   "file_extension": ".py",
   "mimetype": "text/x-python",
   "name": "python",
   "nbconvert_exporter": "python",
   "pygments_lexer": "ipython3",
   "version": "3.6.1"
  }
 },
 "nbformat": 4,
 "nbformat_minor": 2
}
