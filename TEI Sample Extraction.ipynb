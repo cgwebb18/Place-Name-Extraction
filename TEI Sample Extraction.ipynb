{
 "cells": [
  {
   "cell_type": "code",
   "execution_count": 1,
   "metadata": {},
   "outputs": [],
   "source": [
    "import re\n",
    "import pandas as pd\n",
    "import numpy as np\n",
    "from IPython.display import clear_output\n",
    "import nltk\n",
    "from nltk.tokenize import word_tokenize\n",
    "from nltk.corpus import stopwords\n",
    "import requests\n",
    "from bs4 import BeautifulSoup\n",
    "from lxml import etree"
   ]
  },
  {
   "cell_type": "code",
   "execution_count": 6,
   "metadata": {},
   "outputs": [],
   "source": [
    "#function to get all proper nouns from a file\n",
    "#takes xml doc and returns dataframe\n",
    "def get_nps(file):\n",
    "    acc_d = {'Speaker':[], 'Line':[], 'Term':[]}\n",
    "    tree = etree.parse(file)\n",
    "    #one-liner to create parent_map to traverse the tree backwards\n",
    "    parent_map = dict((c, p) for p in tree.getiterator() for c in p)\n",
    "    #get title\n",
    "    title = tree.xpath('//title')[0].text\n",
    "    #start with list of all proper nouns, then add line # and speaker info to each\n",
    "    nps = tree.xpath('//w[@ana=\"#n1-nn\"]')\n",
    "    def get_sp(l):\n",
    "        parent = parent_map[l]\n",
    "        if parent.tag == 'sp':\n",
    "            return parent\n",
    "        else:\n",
    "            return get_sp(parent)\n",
    "    for np in nps:\n",
    "        line = parent_map[np]\n",
    "        line_num = np.get('n')\n",
    "        speech = get_sp(np)\n",
    "        if speech.find('speaker') == None:\n",
    "            speaker = speech.get('who')\n",
    "        else:\n",
    "            i_speaker = speech.find('speaker')\n",
    "            speaker = ''\n",
    "            for w in i_speaker.findall('w'):\n",
    "                speaker = speaker + w.text.capitalize() + ' '\n",
    "            speaker = speaker[:-1]    \n",
    "            \n",
    "        acc_d['Speaker'].append(speaker) \n",
    "        acc_d['Line'].append(line_num)\n",
    "        acc_d['Term'].append(np.text)\n",
    "    df = pd.DataFrame.from_dict(acc_d)\n",
    "    df['Play'] = title\n",
    "    return df\n",
    "\n",
    "\n",
    "\n",
    "def get_chars(file):\n",
    "    char_list = []\n",
    "    tree = etree.parse(file)\n",
    "    #get list of characters\n",
    "    for ci in tree.xpath('//castList//castItem'):\n",
    "        if len(ci) > 0:\n",
    "            c_id = ci.get('{http://www.w3.org/XML/1998/namespace}id')\n",
    "            if c_id[1].islower() == True:\n",
    "                r = ci.find('role')\n",
    "                char_list.append((c_id, get_text(r).strip()))\n",
    "    return char_list\n",
    "        \n",
    "#     x.text.replace('â\\x80\\x99', '\\'')\n",
    "#     x.replace('Ã©', 'e')\n",
    "def get_text(role):\n",
    "    text_arr = []\n",
    "    if role.text != None:\n",
    "        b = role.text.strip()\n",
    "        text_arr.append(b)\n",
    "    for n in role:\n",
    "        n_txt = n.text\n",
    "        n_tl = n.tail\n",
    "        if n_txt != None:\n",
    "            text_arr.append(n_txt.strip())\n",
    "        if n_tl != None:\n",
    "            if len(n_tl.strip()) > 0:\n",
    "                text_arr.append(n_tl.strip())\n",
    "    #combine strings in the array\n",
    "    final_s = ''\n",
    "    for s in text_arr:\n",
    "        if s != '':\n",
    "            final_s = final_s + s + ' '\n",
    "    return final_s\n",
    "\n",
    "    "
   ]
  },
  {
   "cell_type": "code",
   "execution_count": 4,
   "metadata": {},
   "outputs": [],
   "source": [
    "HenryIV_1df= get_nps('Initial_Texts/HenryIV(1).xml')\n",
    "HenryIV_2df = get_nps('Initial_Texts/HenryIV(2).xml')\n",
    "HenryV_df = get_nps('Initial_Texts/HenryV.xml')\n",
    "HenryVI_1df = get_nps('Initial_Texts/HenryVI(1).xml')\n",
    "HenryVI_2df = get_nps('Initial_Texts/HenryVI(2).xml')\n",
    "HenryVI_3df = get_nps('Initial_Texts/HenryVI(3).xml')\n",
    "John_df = get_nps('Initial_Texts/John.xml')\n",
    "RichardII_df = get_nps('Initial_Texts/RichardII.xml')\n",
    "RichardIII_df = get_nps('Initial_Texts/RichardIII.xml')\n",
    "all_dfs = [HenryIV_1df, HenryIV_2df, HenryV_df, HenryVI_1df, HenryVI_2df, HenryVI_3df, John_df, RichardII_df, RichardIII_df]"
   ]
  },
  {
   "cell_type": "code",
   "execution_count": 7,
   "metadata": {},
   "outputs": [],
   "source": [
    "HenryIV_1chars = get_chars('Initial_Texts/HenryVI(1).xml')\n",
    "HenryIV_2chars = get_chars('Initial_Texts/HenryVI(2).xml')\n",
    "HenryV_chars = get_chars('Initial_Texts/HenryV.xml')\n",
    "HenryVI_1chars = get_chars('Initial_Texts/HenryVI(1).xml')\n",
    "HenryVI_2chars = get_chars('Initial_Texts/HenryVI(2).xml')\n",
    "HenryVI_3chars = get_chars('Initial_Texts/HenryVI(3).xml')\n",
    "John_chars = get_chars('Initial_Texts/John.xml')\n",
    "RichardII_chars = get_chars('Initial_Texts/RichardII.xml')\n",
    "RichardIII_chars = get_chars('Initial_Texts/RichardIII.xml')\n",
    "all_chars = [HenryIV_1chars, HenryIV_2chars, HenryV_chars, HenryVI_1chars, HenryVI_2chars, HenryVI_3chars, John_chars, RichardII_chars, RichardIII_chars]"
   ]
  },
  {
   "cell_type": "code",
   "execution_count": 14,
   "metadata": {},
   "outputs": [],
   "source": [
    "all_char_list = [inner for outer in all_chars for inner in outer]\n",
    "character_df = pd.DataFrame(all_char_list)\n",
    "writer = pd.ExcelWriter('characters.xlsx')\n",
    "character_df.to_excel(writer, 'Sheet1')\n",
    "writer.save()"
   ]
  },
  {
   "cell_type": "code",
   "execution_count": null,
   "metadata": {},
   "outputs": [],
   "source": []
  },
  {
   "cell_type": "code",
   "execution_count": null,
   "metadata": {},
   "outputs": [],
   "source": []
  },
  {
   "cell_type": "code",
   "execution_count": null,
   "metadata": {},
   "outputs": [],
   "source": []
  },
  {
   "cell_type": "code",
   "execution_count": null,
   "metadata": {},
   "outputs": [],
   "source": []
  },
  {
   "cell_type": "code",
   "execution_count": null,
   "metadata": {},
   "outputs": [],
   "source": []
  }
 ],
 "metadata": {
  "kernelspec": {
   "display_name": "Python 3",
   "language": "python",
   "name": "python3"
  },
  "language_info": {
   "codemirror_mode": {
    "name": "ipython",
    "version": 3
   },
   "file_extension": ".py",
   "mimetype": "text/x-python",
   "name": "python",
   "nbconvert_exporter": "python",
   "pygments_lexer": "ipython3",
   "version": "3.6.5"
  }
 },
 "nbformat": 4,
 "nbformat_minor": 2
}
